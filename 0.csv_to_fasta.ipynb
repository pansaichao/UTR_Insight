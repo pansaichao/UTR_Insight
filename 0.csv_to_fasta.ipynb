{
 "cells": [
  {
   "cell_type": "code",
   "execution_count": 1,
   "metadata": {},
   "outputs": [],
   "source": [
    "import pandas as pd\n",
    "\n",
    "# 读取CSV文件\n",
    "human_7600_csv = '/devdata/pansc/github/UTR_Insight/Result/optimus_framepool/VaryLengthHumanTest_sequence_num7600_pred_mrl.csv'\n",
    "random_7600_csv = '/devdata/pansc/github/UTR_Insight/Result/optimus_framepool/VaryLengthRandomTest_sequence_num7600_pred_mrl.csv'\n",
    "\n",
    "human_7600_df = pd.read_csv(human_7600_csv)\n",
    "random_7600_df = pd.read_csv(random_7600_csv)\n"
   ]
  },
  {
   "cell_type": "code",
   "execution_count": 2,
   "metadata": {},
   "outputs": [
    {
     "name": "stdout",
     "output_type": "stream",
     "text": [
      "转换完成，FASTA文件已保存。\n"
     ]
    }
   ],
   "source": [
    "# 打开FASTA文件\n",
    "with open('/devdata/pansc/github/UTR_Insight/Result/utr_lm/human_7600.fasta', 'w') as fasta_file:\n",
    "    # 遍历CSV中的每一行，将其转换为FASTA格式\n",
    "    for index, row in human_7600_df.iterrows():\n",
    "        fasta_file.write(f'>{row[\"id\"]}\\n')\n",
    "        fasta_file.write(f'{row[\"utr\"]}\\n')\n",
    "\n",
    "with open('/devdata/pansc/github/UTR_Insight/Result/utr_lm/random_7600.fasta', 'w') as fasta_file:\n",
    "    # 遍历CSV中的每一行，将其转换为FASTA格式\n",
    "    for index, row in random_7600_df.iterrows():\n",
    "        fasta_file.write(f'>{row[\"id\"]}\\n')\n",
    "        fasta_file.write(f'{row[\"utr\"]}\\n')\n",
    "\n",
    "print(\"转换完成，FASTA文件已保存。\")"
   ]
  }
 ],
 "metadata": {
  "kernelspec": {
   "display_name": "Python 3",
   "language": "python",
   "name": "python3"
  },
  "language_info": {
   "codemirror_mode": {
    "name": "ipython",
    "version": 3
   },
   "file_extension": ".py",
   "mimetype": "text/x-python",
   "name": "python",
   "nbconvert_exporter": "python",
   "pygments_lexer": "ipython3",
   "version": "3.9.13"
  }
 },
 "nbformat": 4,
 "nbformat_minor": 2
}
